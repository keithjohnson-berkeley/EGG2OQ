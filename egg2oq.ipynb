{
 "cells": [
  {
   "cell_type": "markdown",
   "id": "e6ff30ef",
   "metadata": {},
   "source": [
    "## egg2oq\n",
    "\n",
    "Assume we have a stereo audio file, where the acoustic waveform is in the left channel, and an electroglottograph (EGG) signal is in the right channel (Herbst, 2020).\n",
    "\n",
    "This notebook illustrates some processing steps to calculate the vocal fold vibration open quotient (OQ) from the EGG signal.\n",
    "\n",
    "\n",
    "Christian T. Herbst (2020) \"Electroglottography − An Update.\" *Journal of Voice*, **34**(4), pp. 503-526."
   ]
  },
  {
   "cell_type": "code",
   "execution_count": 1,
   "id": "946d2b57",
   "metadata": {},
   "outputs": [],
   "source": [
    "import numpy as np\n",
    "import scipy as sp\n",
    "import matplotlib.pyplot as plt\n",
    "import librosa\n",
    "from IPython.display import Audio"
   ]
  },
  {
   "cell_type": "markdown",
   "id": "8c661801",
   "metadata": {},
   "source": [
    "### make_frames()\n",
    "\n",
    "Declaring here a small function that takes a waveform and returns a 2D array of frames of data\n",
    "\n",
    "For example, a six sample waveform split into frames of three samples each, with a step/hop of \n",
    "one sample between each frame gives this:\n",
    "\n",
    "    [1,2,3,4,5,6] --> [[1,2,3],\n",
    "                         [2,3,4],\n",
    "                         [3,4,5],\n",
    "                         [4,5,6]]\n",
    "                         \n",
    "In this example the first frame is [1,2,3]."
   ]
  },
  {
   "cell_type": "code",
   "execution_count": 2,
   "id": "300b2f0b",
   "metadata": {},
   "outputs": [],
   "source": [
    "def make_frames(array, winsize,stride):\n",
    "    '''\n",
    "    make_frames(array,winsize,stride)\n",
    "\n",
    "    takes a 1D array (one channel of audio data for example), and returns a 2D\n",
    "    array of frames. each frame is 'winsize' long, and the starting points of\n",
    "    the frames are at intervals of 'stride'.  'winsize' and 'stride' must be given \n",
    "    in number of samples.  Here is an example call (where fs is the sampling rate):\n",
    "\n",
    "    frames = make_frames(signal,int(0.015*fs),int(0.005*fs))  # 15ms windows, 5ms hop\n",
    "\n",
    "    '''\n",
    "    if array.ndim > 1:\n",
    "        print('make_frames() wants a 1D array')\n",
    "        return None\n",
    "\n",
    "    max_time = array.size-(winsize+1)\n",
    "    \n",
    "    sub_windows = (\n",
    "        np.expand_dims(np.arange(winsize), 0) +\n",
    "        np.expand_dims(np.arange(max_time + 1, step=stride), 0).T\n",
    "    )\n",
    "    return array[sub_windows]"
   ]
  },
  {
   "cell_type": "markdown",
   "id": "1f9fcfcd",
   "metadata": {},
   "source": [
    "## 1. Get Data\n",
    "\n",
    "We have an random EGG file for illustration.\n",
    "\n",
    "Librosa.load is used to open and downsample the stereo file.\n",
    "The channels are separated into separate arrays."
   ]
  },
  {
   "cell_type": "code",
   "execution_count": null,
   "id": "68efe4fa",
   "metadata": {},
   "outputs": [],
   "source": [
    "target_fs = 16000\n",
    "data, fs = librosa.load(\"example_egg.wav\", sr=target_fs, mono=False,)\n",
    "print(f'sampling rate: {fs}, Number of samples {data.shape[1]}, and channels: {data.shape[0]}')\n",
    "\n",
    "audio = data[0]\n",
    "egg_x = data[1]\n"
   ]
  },
  {
   "cell_type": "code",
   "execution_count": null,
   "id": "058d5a2a",
   "metadata": {},
   "outputs": [],
   "source": [
    "# plot a sample of the waveforms\n",
    "time = [i/fs for i in range(audio.size)]   ## the time values associated with the waveforms, for plotting.\n",
    "\n",
    "start = int(0.95*fs)  # picking a spot in the input file for illustration\n",
    "end = int(1.45*fs)\n",
    "\n",
    "fig = plt.figure()\n",
    "ax1 =fig.add_subplot(211,)\n",
    "ax1.plot(time[start:end],audio[start:end],label=\"audio\")\n",
    "ax1.set_xticklabels([])\n",
    "ax1.legend()\n",
    "ax2 =fig.add_subplot(212)\n",
    "ax2.plot(time[start:end],egg_x[start:end],label=\"egg\")\n",
    "ax2.legend()"
   ]
  },
  {
   "cell_type": "markdown",
   "id": "b2e79db0",
   "metadata": {},
   "source": [
    "## 2. Highpass filter the EGG signal\n",
    "\n",
    "This script uses a pretty high frequency cutoff, and a pretty steep filter.\n",
    "The forward/backward filtering provided by the scipy.signal.\\*filtfilt does not impact the phase and thus preserves the EGG waveshape.  See Rothenburg (2002) on this filtering choice.\n",
    "\n",
    "Rothenberg, Martin (2002) Correcting low-frequency phase distortion in electroglottograph waveforms. *Journal of Voice*, **16**(1), 32-36."
   ]
  },
  {
   "cell_type": "code",
   "execution_count": null,
   "id": "8a0701d1",
   "metadata": {},
   "outputs": [],
   "source": [
    "# highpass filter the egg signal\n",
    "cutoff_freq = 70\n",
    "filter_order = 8\n",
    "coefs = sp.signal.butter(filter_order, cutoff_freq, fs=fs, btype='highpass', output='sos')\n",
    "egg = sp.signal.sosfiltfilt(coefs, egg_x)"
   ]
  },
  {
   "cell_type": "code",
   "execution_count": null,
   "id": "755eb680",
   "metadata": {},
   "outputs": [],
   "source": [
    "# the filtering must preserve the waveform shape\n",
    "\n",
    "start = int(1.1*fs)\n",
    "end = int(1.15*fs)\n",
    "\n",
    "plt.plot(time[start:end],egg[start:end],label=\"filtered\")\n",
    "plt.plot(time[start:end],egg_x[start:end],label=\"original\")\n",
    "plt.legend()"
   ]
  },
  {
   "cell_type": "code",
   "execution_count": null,
   "id": "3ffd4299",
   "metadata": {},
   "outputs": [],
   "source": [
    "# and remove slow fluctuations\n",
    "\n",
    "start = int(0.95*fs)  # picking a spot in the input file for illustration\n",
    "end = int(1.45*fs)\n",
    "\n",
    "plt.plot(time[start:end],egg[start:end],label=\"filtered\")\n",
    "plt.plot(time[start:end],egg_x[start:end],label=\"original\")\n",
    "\n",
    "plt.legend()"
   ]
  },
  {
   "cell_type": "markdown",
   "id": "b2e1ead5",
   "metadata": {},
   "source": [
    "## 3. Find glottal closing and opening events\n",
    "\n",
    "Using normalized EGG and dEGG signals, we here find glottal closing and opening events using the 'hybrid' method, that is reviewed in Herbst(2020).\n",
    "\n",
    "scipy.signal.find_peaks() is applied to the degg signal, to find glottal closure instances (GCI), and a threshold of 0.43 in the normalized EGG is used to find glottal opening instances (GOI).\n",
    "\n",
    "An additional signal using the 'thresholding' method is created but not used."
   ]
  },
  {
   "cell_type": "code",
   "execution_count": null,
   "id": "13814fe9",
   "metadata": {},
   "outputs": [],
   "source": [
    "degg = np.gradient(egg)\n",
    "\n",
    "# scale the filtered egg and degg to (0,1)\n",
    "egg = (egg - np.min(egg))/(np.max(egg)-np.min(egg))\n",
    "degg = (degg - np.min(degg))/(np.max(degg)-np.min(degg))\n",
    "\n",
    "# ** thresholding method of calculating closed quotient could use this signal (not used)\n",
    "closed = egg > 0.43  \n",
    "\n",
    "# ** hybrid method of OQ calculation\n",
    "# get peaks in the degg waveform - the glottal closing instants (gci)\n",
    "# minimum spacing between peaks (distance) is 5.5 ms\n",
    "degg_peaks = sp.signal.find_peaks(degg,distance=0.0055*fs) \n",
    "glottal = np.zeros(degg.size)\n",
    "glottal[degg_peaks[0]]=1  # closing times (peaks returns indices of peaks)\n",
    "for i in range(egg.size-1):  # opening times (threshold method)\n",
    "    if egg[i]>0.43 and egg[i+1]<0.43:\n",
    "        glottal[i] = -1\n"
   ]
  },
  {
   "cell_type": "code",
   "execution_count": null,
   "id": "f549c6e9",
   "metadata": {},
   "outputs": [],
   "source": [
    "start = int(1.1*fs)\n",
    "end = int(1.125*fs)\n",
    "\n",
    "plt.plot(time[start:end],degg[start:end],label=\"dEGG\")\n",
    "plt.plot(time[start:end],egg[start:end],label=\"EEG\")\n",
    "plt.plot(time[start:end],closed[start:end],label=\"closed\")\n",
    "plt.plot(time[start:end],glottal[start:end],label=\"Glottal events\")\n",
    "plt.legend()\n"
   ]
  },
  {
   "cell_type": "markdown",
   "id": "bf648ea4",
   "metadata": {},
   "source": [
    "## 4. Calculate OQ from the glottal events waveform\n",
    "\n",
    "- The glottal events waveform is split into frames, and find indices of GCI and GOI in each frame.\n",
    "\n",
    "- If there are no glottal events we will leave 0 as the measure of OQ (and F0).\n",
    "\n",
    "- Take the duration of the first pitch period in the frame.  Find a GOI that occurs in the first pitch period in the frame.\n",
    "\n",
    "- Save the open quotient and F0 for the frame, derived from these measures."
   ]
  },
  {
   "cell_type": "code",
   "execution_count": null,
   "id": "e54e237e",
   "metadata": {},
   "outputs": [],
   "source": [
    "window_length = 0.02\n",
    "hop_dur = 0.005\n",
    "frame_rate = 1/hop_dur\n",
    "\n",
    "win = int(window_length*fs)  # 15ms windows, \n",
    "hop = int(hop_dur*fs)  # 5ms hop\n",
    "\n",
    "\n",
    "frames = make_frames(glottal,win,hop)   # split the glottal events waveform into frames\n",
    "ftime = [(i/frame_rate)+(window_length/2) for i in range(frames.shape[0])]  # get times of frames, for plotting\n",
    "\n",
    "print(f'{frames.shape[0]} frames will be processed')\n",
    "\n",
    "f0 = np.zeros(frames.shape[0])\n",
    "OQ = np.zeros(frames.shape[0])\n",
    "    \n",
    "for k in range(frames.shape[0]):\n",
    "    \n",
    "    gci = np.argwhere(frames[k] == 1.0)  # glottal closures in the frame\n",
    "    goi = np.argwhere(frames[k] == -1.0)  # glottal openings\n",
    "    if (gci.size<2):  # nothing to look at\n",
    "        continue\n",
    "    if (goi.size<2):  # nothing to look at\n",
    "        continue\n",
    "\n",
    "    period = gci[1]-gci[0]  # interval between closures\n",
    "    if goi[0] > gci[0] and goi[0]<gci[1]:  # find an appropriate opening instant\n",
    "        op = goi[0]\n",
    "    elif goi[1] > gci[0] and goi[1]<gci[1]: \n",
    "        op = goi[1]\n",
    "    else:\n",
    "        continue\n",
    "        \n",
    "    f0[k] = 1/(period/fs)   # may as well calculate this while we are here\n",
    "    OQ[k] = (gci[1]-op)/period"
   ]
  },
  {
   "cell_type": "markdown",
   "id": "a50c6ab4",
   "metadata": {},
   "source": [
    "## Explore"
   ]
  },
  {
   "cell_type": "code",
   "execution_count": null,
   "id": "00f22f2c",
   "metadata": {},
   "outputs": [],
   "source": [
    "start_time = 0.95\n",
    "end_time = start_time + 0.5\n",
    "\n",
    "start_sample = int(start_time*fs)\n",
    "end_sample = int(end_time*fs)\n",
    "\n",
    "start_frame = int(start_time*frame_rate)\n",
    "end_frame = int(end_time*frame_rate)\n",
    "\n",
    "\n",
    "fig = plt.figure()\n",
    "ax1 =fig.add_subplot(311,)\n",
    "ax1.plot(time[start_sample:end_sample],audio[start_sample:end_sample],label=\"audio\")\n",
    "ax1.set_xticklabels([])\n",
    "ax1.legend()\n",
    "ax2 =fig.add_subplot(312)\n",
    "ax2.plot(ftime[start_frame:end_frame],OQ[start_frame:end_frame],label=\"OQ\")\n",
    "ax2.set_xticklabels([])\n",
    "ax2.legend()\n",
    "ax3 =fig.add_subplot(313)\n",
    "ax3.plot(ftime[start_frame:end_frame],f0[start_frame:end_frame],label=\"F0\")\n",
    "ax3.legend()\n",
    "\n",
    "Audio(audio[start_sample:end_sample],rate=fs)"
   ]
  },
  {
   "cell_type": "markdown",
   "id": "05269a7d",
   "metadata": {},
   "source": [
    "## process_EGG()\n",
    "\n",
    "Now combine all this into a function"
   ]
  },
  {
   "cell_type": "code",
   "execution_count": 3,
   "id": "f209d079",
   "metadata": {},
   "outputs": [],
   "source": [
    "def process_EGG(filename,egg_channel=1,window_length = 0.02, hop_dur = 0.005,\n",
    "                hp_cut = 70, hp_order = 8, peak_sep = 0.0055,threshold=0.43):\n",
    "    '''\n",
    "    Inputs:\n",
    "        filename - name of a two channel audio file with EGG in one of the channels\n",
    "        egg_channel - audio channel (0 or 1) where EGG signal will be found\n",
    "        window_length - duration of analysis frames (default=0.02 seconds)\n",
    "        hop_dur - interval between frames (default=0.005 seconds)\n",
    "        hp_cut - highpass filter cut frequency (default=70)\n",
    "        hp_order - highpass filter order (default=8)\n",
    "        peak_sep - required separation between glottal closing instants (default = 0.0055 seconds)\n",
    "        threshold - on the normalized EGG signal used to find the glottal opening instant (default = 0.43)\n",
    "        \n",
    "    Outputs:\n",
    "        time - midpoint times (seconds) of the analysis frames in f0 and OQ\n",
    "        f0 - estimates of the fundamental frequency of voicing\n",
    "        OQ - the open quotient: proportion of the glottal cycle in which the glottis is open\n",
    "        \n",
    "    '''\n",
    "    target_fs = 16000\n",
    "    data, fs = librosa.load(filename, sr=target_fs, mono=False) # this is the slowest step in the function \n",
    "    \n",
    "    # highpass filter the egg signal\n",
    "    coefs = sp.signal.butter(hp_order, hp_cut, fs=fs, btype='highpass', output='sos')\n",
    "    egg = sp.signal.sosfiltfilt(coefs, data[egg_channel])\n",
    "    \n",
    "    # differential egg\n",
    "    degg = np.gradient(egg)\n",
    "\n",
    "    # scale the filtered egg and degg to (0,1)\n",
    "    egg = (egg - np.min(egg))/(np.max(egg)-np.min(egg))\n",
    "    degg = (degg - np.min(degg))/(np.max(degg)-np.min(degg))\n",
    "\n",
    "    # get peaks in the degg waveform - the glottal closing instants (gci)\n",
    "    # minimum spacing between peaks (distance) is 5.5 ms\n",
    "    degg_peaks = sp.signal.find_peaks(degg,distance=peak_sep*fs) \n",
    "    glottal = np.zeros(degg.size)\n",
    "    glottal[degg_peaks[0]]=1  # closing times (peaks returns indices of peaks)\n",
    "    for i in range(egg.size-1):  # opening times (threshold method)\n",
    "        if egg[i]>threshold and egg[i+1]<threshold:\n",
    "            glottal[i] = -1\n",
    "\n",
    "    win = int(window_length*fs)  # 15ms windows, \n",
    "    hop = int(hop_dur*fs)  # 5ms hop\n",
    "\n",
    "    frames = make_frames(glottal,win,hop)   # split the glottal events waveform into frames\n",
    "\n",
    "    frame_rate = 1/hop_dur\n",
    "    ftime = [(i/frame_rate)+(window_length/2) for i in range(frames.shape[0])]  # get times of frames, for plotting\n",
    "\n",
    "    f0 = np.zeros(frames.shape[0])\n",
    "    OQ = np.zeros(frames.shape[0])\n",
    "    \n",
    "    for k in range(frames.shape[0]):\n",
    "    \n",
    "        gci = np.argwhere(frames[k] == 1.0)  # glottal closures in the frame\n",
    "        goi = np.argwhere(frames[k] == -1.0)  # glottal openings\n",
    "        if (gci.size<2):  # nothing to look at\n",
    "            continue\n",
    "        if (goi.size<2):  # nothing to look at\n",
    "            continue\n",
    "\n",
    "        period = gci[1]-gci[0]  # interval between closures\n",
    "        if goi[0] > gci[0] and goi[0]<gci[1]:  # find an appropriate opening instant\n",
    "            op = goi[0]\n",
    "        elif goi[1] > gci[0] and goi[1]<gci[1]: \n",
    "            op = goi[1]\n",
    "        else:\n",
    "            continue\n",
    "        \n",
    "        OQ[k] = (gci[1]-op)/period\n",
    "        f0[k] = 1/(period/fs)   # may as well calculate this while we are here\n",
    "\n",
    "    return ftime,f0,OQ"
   ]
  },
  {
   "cell_type": "code",
   "execution_count": 12,
   "id": "6ba6dc65",
   "metadata": {},
   "outputs": [
    {
     "data": {
      "text/html": [
       "\n",
       "                <audio  controls=\"controls\" >\n",
       "                    <source src=\"data:audio/wav;base64,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\" type=\"audio/wav\" />\n",
       "                    Your browser does not support the audio element.\n",
       "                </audio>\n",
       "              "
      ],
      "text/plain": [
       "<IPython.lib.display.Audio object>"
      ]
     },
     "execution_count": 12,
     "metadata": {},
     "output_type": "execute_result"
    },
    {
     "data": {
      "image/png": "[encoded data removed]",
      "text/plain": [
       "<Figure size 640x480 with 3 Axes>"
      ]
     },
     "metadata": {},
     "output_type": "display_data"
    }
   ],
   "source": [
    "t,f0,OQ = process_EGG(\"example_egg.wav\")\n",
    "\n",
    "#-----------------------------------------\n",
    "\n",
    "data, fs = librosa.load(\"example_egg.wav\", mono=False,)\n",
    "audio = data[0]\n",
    "time = [i/fs for i in range(audio.size)]   ## the time values associated with the waveforms, for plotting.\n",
    "\n",
    "\n",
    "frame_rate = 1/0.005\n",
    "\n",
    "start_time = 0.95\n",
    "end_time = start_time + 0.5\n",
    "\n",
    "start_sample = int(start_time*fs)\n",
    "end_sample = int(end_time*fs)\n",
    "\n",
    "start_frame = int(start_time*frame_rate)\n",
    "end_frame = int(end_time*frame_rate)\n",
    "\n",
    "\n",
    "fig = plt.figure()\n",
    "ax1 =fig.add_subplot(311,)\n",
    "ax1.plot(time[start_sample:end_sample],audio[start_sample:end_sample],label=\"audio\")\n",
    "ax1.set_xticklabels([])\n",
    "ax1.legend()\n",
    "ax2 =fig.add_subplot(312)\n",
    "ax2.plot(t[start_frame:end_frame],OQ[start_frame:end_frame],label=\"OQ\")\n",
    "ax2.set_xticklabels([])\n",
    "ax2.legend()\n",
    "ax3 =fig.add_subplot(313)\n",
    "ax3.plot(t[start_frame:end_frame],f0[start_frame:end_frame],label=\"F0\")\n",
    "ax3.legend()\n",
    "\n",
    "Audio(audio[start_sample:end_sample],rate=fs)"
   ]
  },
  {
   "cell_type": "code",
   "execution_count": null,
   "id": "350668fb",
   "metadata": {},
   "outputs": [],
   "source": []
  }
 ],
 "metadata": {
  "kernelspec": {
   "display_name": "Python 3 (ipykernel)",
   "language": "python",
   "name": "python3"
  },
  "language_info": {
   "codemirror_mode": {
    "name": "ipython",
    "version": 3
   },
   "file_extension": ".py",
   "mimetype": "text/x-python",
   "name": "python",
   "nbconvert_exporter": "python",
   "pygments_lexer": "ipython3",
   "version": "3.10.6"
  }
 },
 "nbformat": 4,
 "nbformat_minor": 5
}
